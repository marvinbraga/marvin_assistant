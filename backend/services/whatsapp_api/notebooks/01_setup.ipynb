{
 "cells": [
  {
   "cell_type": "markdown",
   "source": [
    "# Construção de um Bot de WhatsApp com Python e FastAPI\n",
    "Neste notebook, vamos percorrer o processo de construir um bot de WhatsApp usando Python puro e FastAPI. Cobriremos desde a configuração inicial até a integração com a API do WhatsApp e a adição de funcionalidades de inteligência artificial.\n"
   ],
   "metadata": {
    "collapsed": false
   },
   "id": "46dab046577fb922"
  },
  {
   "cell_type": "markdown",
   "source": [
    "## 1. Configuração do Ambiente\n",
    "Antes de começar, certifique-se de que você tenha uma conta de desenvolvedor Meta e um aplicativo de negócios configurado. Para criar uma conta de desenvolvedor Meta, visite [https://developers.facebook.com](https://developers.facebook.com). Além disso, é essencial ter familiaridade com a linguagem de programação Python.\n"
   ],
   "metadata": {
    "collapsed": false
   },
   "id": "e4c29e85558aec16"
  },
  {
   "cell_type": "markdown",
   "source": [
    "## 2. Seleção de Números de Telefone\n",
    "O primeiro passo é adicionar o WhatsApp ao seu aplicativo e utilizar um número de teste para envio de mensagens. Este número permitirá enviar mensagens para até cinco números diferentes durante a fase de testes. Para mais informações sobre como adicionar o WhatsApp ao seu aplicativo, consulte [https://developers.facebook.com/docs/whatsapp](https://developers.facebook.com/docs/whatsapp).\n"
   ],
   "metadata": {
    "collapsed": false
   },
   "id": "af8613df927ef718"
  },
  {
   "cell_type": "markdown",
   "source": [
    "## 3. Envio de Mensagens com a API\n",
    "Para enviar mensagens, precisamos obter um token de acesso de 24 horas da API e utilizar comandos `curl` ou a biblioteca `requests` do Python. Também é necessário configurar variáveis de ambiente no arquivo `.env`. Informações detalhadas sobre o envio de mensagens podem ser encontradas neste guia em [https://developers.facebook.com/docs/whatsapp/api/messages](https://developers.facebook.com/docs/whatsapp/api/messages).\n"
   ],
   "metadata": {
    "collapsed": false
   },
   "id": "24db9470656a9801"
  },
  {
   "cell_type": "code",
   "execution_count": null,
   "outputs": [],
   "source": [
    "from dotenv import load_dotenv, find_dotenv\n",
    "\n",
    "load_dotenv(find_dotenv())"
   ],
   "metadata": {
    "collapsed": false
   },
   "id": "6425e40336c0d716"
  },
  {
   "cell_type": "code",
   "execution_count": null,
   "outputs": [],
   "source": [
    "import os\n",
    "\n",
    "# App Dashboard > WhatsApp > API Setup\n",
    "app_id = os.environ[\"APP_ID\"]\n",
    "access_token = os.environ[\"ACCESS_TOKEN\"]\n",
    "phone_number_id = os.environ[\"PHONE_NUMBER_ID\"]\n",
    "recipient_waid = os.environ[\"RECIPIENT_WAID\"]\n",
    "\n",
    "# App Dashboard > Webhooks\n",
    "version = os.environ[\"VERSION\"]\n",
    "\n",
    "# App Dashboard > App Setup > Basic\n",
    "app_secret = os.environ[\"APP_SECRET\"]"
   ],
   "metadata": {
    "collapsed": false
   },
   "id": "22ec180ac34bfe26"
  },
  {
   "cell_type": "markdown",
   "source": [
    "## 4. Configuração de Webhooks para Receber Mensagens\n",
    "Webhooks são essenciais para receber mensagens em tempo real. Vamos configurar o ngrok para expor nosso aplicativo Flask local à internet e integrar os webhooks com o WhatsApp. Instruções detalhadas sobre a configuração de webhooks podem ser encontradas aqui neste link [https://developers.facebook.com/docs/whatsapp/api/webhooks](https://developers.facebook.com/docs/whatsapp/api/webhooks).\n"
   ],
   "metadata": {
    "collapsed": false
   },
   "id": "efd1ebe09eb8be3c"
  },
  {
   "cell_type": "markdown",
   "source": [
    "## 5. Teste de Envio e Recebimento de Mensagem.\n",
    "Após o envio da mensagem de teste você deve respondê-la.\n"
   ],
   "metadata": {
    "collapsed": false
   },
   "id": "2918a7721cc3cb95"
  },
  {
   "cell_type": "code",
   "execution_count": null,
   "outputs": [],
   "source": [
    "import requests\n",
    "\n",
    "def send_hello_world_message():\n",
    "    url = f\"https://graph.facebook.com/{version}/{phone_number_id}/messages\"\n",
    "    \n",
    "    headers = {\n",
    "        \"Authorization\": f\"Bearer {access_token}\",\n",
    "        \"Content-Type\": \"application/json\",\n",
    "    }\n",
    "    \n",
    "    payload = {\n",
    "        \"messaging_product\": \"whatsapp\",\n",
    "        \"to\": recipient_waid,\n",
    "        \"type\": \"template\",\n",
    "        \"template\": {\"name\": \"hello_world\", \"language\": {\"code\": \"en_US\"}},\n",
    "    }\n",
    "    \n",
    "    response = requests.post(url, headers=headers, json=payload)\n",
    "    return response"
   ],
   "metadata": {
    "collapsed": false
   },
   "id": "decf11b4f6e4a4de"
  },
  {
   "cell_type": "markdown",
   "source": [
    "### Enviando a mensagem."
   ],
   "metadata": {
    "collapsed": false
   },
   "id": "e13f7a3da494e813"
  },
  {
   "cell_type": "code",
   "execution_count": null,
   "outputs": [],
   "source": [
    "resp = send_hello_world_message()"
   ],
   "metadata": {
    "collapsed": false
   },
   "id": "10d5df7092b87272"
  },
  {
   "cell_type": "markdown",
   "source": [
    "## 6. Instalação e Configuração do NGROK\n",
    "O ngrok é uma ferramenta essencial para expor seu aplicativo FastAPI local à internet de forma segura. Vamos ver como configurá-lo:\n",
    "\n",
    "1. **Criação de Conta e Download**:\n",
    "   - Primeiro, crie uma conta no ngrok em [ngrok.com](https://ngrok.com).\n",
    "   - Após criar sua conta, faça o download do agente ngrok para seu sistema operacional.\n",
    "\n",
    "2. **Autenticação**:\n",
    "   - No painel do ngrok, copie seu Authtoken.\n",
    "   - Autentique seu agente ngrok com este token. No terminal, execute `ngrok authtoken SEU_TOKEN`.\n",
    "\n",
    "3. **Iniciando o ngrok**:\n",
    "   - Inicie o ngrok para expor seu aplicativo Flask. No terminal, execute `ngrok http 8000` (substitua 8000 pela porta onde o seu aplicativo Flask está rodando).\n",
    "   - O ngrok fornecerá um URL público (por exemplo, `https://seuapp.ngrok.io`). Este URL será usado para configurar os webhooks do WhatsApp.\n",
    "\n",
    "4. **Configuração de Webhook no Dashboard do WhatsApp**:\n",
    "   - No Dashboard do WhatsApp, vá para a seção de configuração de webhook e insira o URL fornecido pelo ngrok.\n",
    "   - Certifique-se de adicionar `/webhooks` ao final do URL (por exemplo, `https://seuapp.ngrok.io/webhooks`).\n",
    "\n",
    "5. **Verificação de Funcionamento**:\n",
    "   - Envie uma solicitação de teste ao seu webhook e verifique se seu aplicativo Flask recebe a solicitação.\n",
    "\n",
    "O ngrok é uma ferramenta poderosa que permite testar facilmente seu bot de WhatsApp em um ambiente de desenvolvimento, expondo seu aplicativo local à internet de forma segura e eficiente.\n"
   ],
   "metadata": {
    "collapsed": false
   },
   "id": "a5b644b40a0ab7d1"
  },
  {
   "cell_type": "markdown",
   "source": [
    "### Iniciando o ngrok Localmente com Invoke\n",
    "\n",
    "Para facilitar o processo de inicialização do ngrok em nosso ambiente local, foi criada uma tarefa do `invoke`. Para iniciar o ngrok, simplesmente utilize o comando `inv start_ngrok` no terminal. Este comando executa a tarefa configurada para iniciar o ngrok, tornando nosso aplicativo Flask acessível pela internet, o que é essencial para a configuração e funcionamento dos webhooks do WhatsApp.\n"
   ],
   "metadata": {
    "collapsed": false
   },
   "id": "fd63b20add93510f"
  },
  {
   "cell_type": "code",
   "execution_count": null,
   "outputs": [],
   "source": [],
   "metadata": {
    "collapsed": false
   },
   "id": "98b5239039f72412"
  }
 ],
 "metadata": {
  "kernelspec": {
   "display_name": "Python 3",
   "language": "python",
   "name": "python3"
  },
  "language_info": {
   "codemirror_mode": {
    "name": "ipython",
    "version": 2
   },
   "file_extension": ".py",
   "mimetype": "text/x-python",
   "name": "python",
   "nbconvert_exporter": "python",
   "pygments_lexer": "ipython2",
   "version": "2.7.6"
  }
 },
 "nbformat": 4,
 "nbformat_minor": 5
}
